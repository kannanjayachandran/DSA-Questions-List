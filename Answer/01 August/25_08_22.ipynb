{
 "cells": [
  {
   "cell_type": "markdown",
   "metadata": {},
   "source": [
    "### 25/08/22"
   ]
  },
  {
   "cell_type": "markdown",
   "metadata": {},
   "source": [
    "1 You are given a string of length n you need to reverse the string word by word there can be multiple spaces between two words and there can be leading or trailing spaces but in the output reversed string you need to put a single space between two words and your reversed string should not contain leading or trailing spaces"
   ]
  },
  {
   "cell_type": "code",
   "execution_count": 5,
   "metadata": {},
   "outputs": [],
   "source": [
    "def reverseString(string):\n",
    "    \n",
    "   result = string.split(' ')\n",
    "\n",
    "   result = [x for x in result if x!= '']\n",
    "    \n",
    "   result = result[::-1]\n",
    "\n",
    "   return ' '.join(result).strip(' ')"
   ]
  },
  {
   "cell_type": "code",
   "execution_count": 6,
   "metadata": {},
   "outputs": [
    {
     "name": "stdout",
     "output_type": "stream",
     "text": [
      "Welcome to Coding Ninjas\n",
      "I love coding\n",
      "Hey There!!\n"
     ]
    }
   ],
   "source": [
    "print(reverseString('Ninjas Coding to Welcome'))\n",
    "print(reverseString('coding    love I  '))\n",
    "print(reverseString('     There!!   Hey      '))"
   ]
  },
  {
   "cell_type": "markdown",
   "metadata": {},
   "source": [
    "2 Given an array of integers nums and an integer target, return indices of the two numbers such that they add up to target. You may assume that each input would have exactly one solution, and you may not use the same element twice. You can return the answer in any order.\n",
    "\n",
    "[Question](https://leetcode.com/problems/two-sum/)"
   ]
  },
  {
   "cell_type": "code",
   "execution_count": 1,
   "metadata": {},
   "outputs": [
    {
     "data": {
      "text/plain": [
       "(4, 5)"
      ]
     },
     "execution_count": 1,
     "metadata": {},
     "output_type": "execute_result"
    }
   ],
   "source": [
    "def twoSum(nums: list[int], target: int) -> list[int]:\n",
    "    \n",
    "    idx_map = {}\n",
    "    \n",
    "    for i in range(len(nums)):\n",
    "\n",
    "        # calculating the required element\n",
    "        req = target-nums[i]\n",
    "\n",
    "        if req in idx_map:\n",
    "            return idx_map[req], i\n",
    "\n",
    "        if nums[i] not in idx_map:\n",
    "            idx_map[nums[i]] = i\n",
    "\n",
    "twoSum((1, 2, 3, 4, 5, 6), 11)"
   ]
  },
  {
   "cell_type": "markdown",
   "metadata": {},
   "source": [
    "3 Given an integer number n, return the difference between the product of its digits and the sum of its digits. \n",
    "\n",
    "[Question](https://leetcode.com/problems/subtract-the-product-and-sum-of-digits-of-an-integer/)"
   ]
  },
  {
   "cell_type": "code",
   "execution_count": 2,
   "metadata": {},
   "outputs": [
    {
     "data": {
      "text/plain": [
       "15"
      ]
     },
     "execution_count": 2,
     "metadata": {},
     "output_type": "execute_result"
    }
   ],
   "source": [
    "def subtractProductAndSum(n):\n",
    "\n",
    "        total = 0\n",
    "        product = 1\n",
    "\n",
    "        while n > 0:\n",
    "            last = n % 10\n",
    "            total += last\n",
    "            product *= last\n",
    "            n //= 10\n",
    "\n",
    "        return product - total\n",
    "\n",
    "subtractProductAndSum(234)"
   ]
  }
 ],
 "metadata": {
  "kernelspec": {
   "display_name": "Python 3.10.5 64-bit",
   "language": "python",
   "name": "python3"
  },
  "language_info": {
   "codemirror_mode": {
    "name": "ipython",
    "version": 3
   },
   "file_extension": ".py",
   "mimetype": "text/x-python",
   "name": "python",
   "nbconvert_exporter": "python",
   "pygments_lexer": "ipython3",
   "version": "3.10.5"
  },
  "orig_nbformat": 4,
  "vscode": {
   "interpreter": {
    "hash": "f4c85645bce20c702a4ecae1b93c6759c482279d1c3b7e99a0246a20b7629f3f"
   }
  }
 },
 "nbformat": 4,
 "nbformat_minor": 2
}
