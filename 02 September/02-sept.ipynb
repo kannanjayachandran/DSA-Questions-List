{
 "cells": [
  {
   "cell_type": "markdown",
   "metadata": {},
   "source": [
    "### 2/09/22"
   ]
  },
  {
   "cell_type": "markdown",
   "metadata": {},
   "source": [
    "1 Given an array, find the length of the smallest subarray with the min and max values. "
   ]
  },
  {
   "cell_type": "code",
   "execution_count": 1,
   "metadata": {},
   "outputs": [
    {
     "data": {
      "text/plain": [
       "2"
      ]
     },
     "execution_count": 1,
     "metadata": {},
     "output_type": "execute_result"
    }
   ],
   "source": [
    "# brute force soln\n",
    "\n",
    "def soln(arr):\n",
    "\n",
    "    n = len(arr)\n",
    "    small = min(arr)\n",
    "    large = max(arr)\n",
    "    minlen = float('inf')\n",
    "    length = 0\n",
    "\n",
    "    for start in range(n):\n",
    "        for end in range(start, n):\n",
    "\n",
    "            hasMin = False\n",
    "            hasMax = False\n",
    "            \n",
    "            for k in range(start, end+1):\n",
    "\n",
    "                if arr[k] == small:\n",
    "                    hasMin = True                    \n",
    "\n",
    "                if arr[k] == large:\n",
    "                    hasMax = True\n",
    "\n",
    "            if hasMax and hasMin:\n",
    "                length = (end - start) + 1\n",
    "\n",
    "                if length < minlen:\n",
    "                    minlen = length  \n",
    "\n",
    "    return minlen\n",
    "\n",
    "soln([0, 1, 5, -2, 3, 2, 5, 5, 4, -2, 3, 0, 5])"
   ]
  },
  {
   "cell_type": "markdown",
   "metadata": {},
   "source": [
    "- Optimised approach"
   ]
  },
  {
   "cell_type": "code",
   "execution_count": 3,
   "metadata": {},
   "outputs": [
    {
     "name": "stdout",
     "output_type": "stream",
     "text": [
      "3\n"
     ]
    }
   ],
   "source": [
    "arr = [2, 8, 1, 3, 0, -1, 0, 8]\n",
    "\n",
    "\n",
    "small = min(arr)\n",
    "large = max(arr)\n",
    "\n",
    "i_min = None\n",
    "i_max = None\n",
    "\n",
    "minlen = float('inf')\n",
    "\n",
    "for i in range(len(arr)):\n",
    "\n",
    "    # for min element\n",
    "    if arr[i] == small:\n",
    "        i_min = i\n",
    "        if i_max is not None:\n",
    "            length = i_min-i_max + 1\n",
    "            minlen = min(length, minlen)\n",
    "\n",
    "    # for max element\n",
    "    if arr[i] == large:\n",
    "        i_max = i\n",
    "        if i_min is not None:\n",
    "            length = i_max- i_min + 1\n",
    "            minlen = min(length, minlen)\n",
    "\n",
    "print(minlen)"
   ]
  }
 ],
 "metadata": {
  "kernelspec": {
   "display_name": "Python 3.10.5 64-bit",
   "language": "python",
   "name": "python3"
  },
  "language_info": {
   "codemirror_mode": {
    "name": "ipython",
    "version": 3
   },
   "file_extension": ".py",
   "mimetype": "text/x-python",
   "name": "python",
   "nbconvert_exporter": "python",
   "pygments_lexer": "ipython3",
   "version": "3.10.5"
  },
  "orig_nbformat": 4,
  "vscode": {
   "interpreter": {
    "hash": "f4c85645bce20c702a4ecae1b93c6759c482279d1c3b7e99a0246a20b7629f3f"
   }
  }
 },
 "nbformat": 4,
 "nbformat_minor": 2
}
