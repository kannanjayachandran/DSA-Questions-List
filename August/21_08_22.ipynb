{
 "cells": [
  {
   "cell_type": "markdown",
   "metadata": {},
   "source": [
    "### 21/08/22"
   ]
  },
  {
   "cell_type": "markdown",
   "metadata": {},
   "source": [
    "1 Find the number of digits in a number"
   ]
  },
  {
   "cell_type": "code",
   "execution_count": 44,
   "metadata": {},
   "outputs": [
    {
     "name": "stdout",
     "output_type": "stream",
     "text": [
      "5\n",
      "5\n",
      "5\n"
     ]
    }
   ],
   "source": [
    "import math\n",
    "\n",
    "num = int(input(\"Enter a number: \"))\n",
    "\n",
    "# python one liner\n",
    "print(len(str(num)))  \n",
    "\n",
    "# iterative solution\n",
    "\n",
    "digits = 0\n",
    "num1 = num\n",
    "\n",
    "while num1 > 0:\n",
    "    num1 //= 10\n",
    "    digits += 1\n",
    "\n",
    "print(digits)\n",
    "\n",
    "# log based solution\n",
    "\n",
    "print(int(math.log10(num)) + 1)"
   ]
  },
  {
   "cell_type": "code",
   "execution_count": 48,
   "metadata": {},
   "outputs": [],
   "source": [
    "import math\n",
    "\n",
    "def digits(num):\n",
    "\n",
    "    '''This function can hale negative numbers, no input, zero, and positive values'''\n",
    "\n",
    "    num = num.lstrip('-')\n",
    "\n",
    "    # for invalid cases and zero\n",
    "    if len(num) == 0 or  not (num.isdigit()):\n",
    "        return 'Enter a valid number'\n",
    "\n",
    "    # for negative numbers\n",
    "    if int(num) < 0:\n",
    "        \n",
    "        num = -int(num)\n",
    "        return int(math.log10(num)) + 1\n",
    "\n",
    "    # for positive numbers\n",
    "    else:\n",
    "        return len(num)\n",
    "    "
   ]
  },
  {
   "cell_type": "code",
   "execution_count": 43,
   "metadata": {},
   "outputs": [
    {
     "name": "stdout",
     "output_type": "stream",
     "text": [
      "1\n"
     ]
    }
   ],
   "source": [
    "num = input('Enter a number:')\n",
    "\n",
    "print(digits(num))"
   ]
  },
  {
   "cell_type": "markdown",
   "metadata": {},
   "source": [
    "2 Check if the given number is palindrome or not. "
   ]
  },
  {
   "cell_type": "code",
   "execution_count": 3,
   "metadata": {},
   "outputs": [
    {
     "name": "stdout",
     "output_type": "stream",
     "text": [
      "True\n",
      "True\n"
     ]
    }
   ],
   "source": [
    "num = int(input('Enter the num:'))\n",
    "\n",
    "# python one liner\n",
    "print(str(num) == str(num)[::-1])\n",
    "\n",
    "# iterative solution\n",
    "rev = 0\n",
    "num1 = num\n",
    "while(num1 > 0):\n",
    "    last = num1 % 10\n",
    "    rev = (rev*10) + last\n",
    "\n",
    "    num1 //= 10\n",
    "\n",
    "print(rev == num)"
   ]
  }
 ],
 "metadata": {
  "kernelspec": {
   "display_name": "Python 3.10.5 64-bit",
   "language": "python",
   "name": "python3"
  },
  "language_info": {
   "codemirror_mode": {
    "name": "ipython",
    "version": 3
   },
   "file_extension": ".py",
   "mimetype": "text/x-python",
   "name": "python",
   "nbconvert_exporter": "python",
   "pygments_lexer": "ipython3",
   "version": "3.10.5"
  },
  "orig_nbformat": 4,
  "vscode": {
   "interpreter": {
    "hash": "f4c85645bce20c702a4ecae1b93c6759c482279d1c3b7e99a0246a20b7629f3f"
   }
  }
 },
 "nbformat": 4,
 "nbformat_minor": 2
}
