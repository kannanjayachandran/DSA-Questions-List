{
 "cells": [
  {
   "cell_type": "markdown",
   "metadata": {},
   "source": [
    "### 25/08/22"
   ]
  },
  {
   "cell_type": "markdown",
   "metadata": {},
   "source": [
    "1 You are given a string of length n you need to reverse the string word by word there can be multiple spaces between two words and there can be leading or trailing spaces but in the output reversed string you need to put a single space between two words and your reversed string should not contain leading or trailing spaces"
   ]
  },
  {
   "cell_type": "code",
   "execution_count": 11,
   "metadata": {},
   "outputs": [],
   "source": [
    "def reverseString(string):\n",
    "    \n",
    "   result = string.split(' ')\n",
    "    \n",
    "   result = result[::-1]\n",
    "\n",
    "   return ' '.join(result).strip(' ')"
   ]
  },
  {
   "cell_type": "code",
   "execution_count": 12,
   "metadata": {},
   "outputs": [
    {
     "name": "stdout",
     "output_type": "stream",
     "text": [
      "Welcome to Coding Ninjas\n",
      "I love    coding\n",
      "Hey   There!!\n"
     ]
    }
   ],
   "source": [
    "print(reverseString('Ninjas Coding to Welcome'))\n",
    "print(reverseString('coding    love I  '))\n",
    "print(reverseString('     There!!   Hey      '))"
   ]
  }
 ],
 "metadata": {
  "kernelspec": {
   "display_name": "Python 3.10.5 64-bit",
   "language": "python",
   "name": "python3"
  },
  "language_info": {
   "codemirror_mode": {
    "name": "ipython",
    "version": 3
   },
   "file_extension": ".py",
   "mimetype": "text/x-python",
   "name": "python",
   "nbconvert_exporter": "python",
   "pygments_lexer": "ipython3",
   "version": "3.10.5"
  },
  "orig_nbformat": 4,
  "vscode": {
   "interpreter": {
    "hash": "f4c85645bce20c702a4ecae1b93c6759c482279d1c3b7e99a0246a20b7629f3f"
   }
  }
 },
 "nbformat": 4,
 "nbformat_minor": 2
}
