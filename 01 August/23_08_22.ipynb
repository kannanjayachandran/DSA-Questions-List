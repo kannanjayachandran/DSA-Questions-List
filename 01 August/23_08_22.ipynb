{
 "cells": [
  {
   "cell_type": "markdown",
   "metadata": {},
   "source": [
    "### 23/08/22"
   ]
  },
  {
   "cell_type": "markdown",
   "metadata": {},
   "source": [
    "1 Alice and Bob each created one problem for HackerRank. A reviewer rates the two challenges, awarding points on a scale from 1 to 100 for three categories: problem clarity, originality, and difficulty.\n",
    "\n",
    "The rating for Alice's challenge is the triplet a = (a[0], a[1], a[2]), and the rating for Bob's challenge is the triplet b = (b[0], b[1], b[2]).\n",
    "\n",
    "The task is to find their comparison points by comparing a[0] with b[0], a[1] with b[1], and a[2] with b[2].\n",
    "\n",
    "- If a[i] > b[i], then Alice is awarded 1 point.\n",
    "- If a[i] < b[i], then Bob is awarded 1 point.\n",
    "- If a[i] = b[i], then neither person receives a point.\n",
    "\n",
    "Comparison points is the total points a person earned.\n",
    "\n",
    "Given a and b, determine their respective comparison points.\n",
    "\n",
    "- write the function for returning the score of the two players only."
   ]
  },
  {
   "cell_type": "code",
   "execution_count": 2,
   "metadata": {},
   "outputs": [],
   "source": [
    "def compareScore(a: list, b: list) -> list:\n",
    "    alice = 0\n",
    "    bob = 0\n",
    "\n",
    "    for i in range(len(a)):\n",
    "        \n",
    "        if a[i] > b[i]:\n",
    "            alice += 1\n",
    "\n",
    "        elif a[i] < b[i]:\n",
    "            bob += 1\n",
    "\n",
    "    return [alice, bob]"
   ]
  },
  {
   "cell_type": "markdown",
   "metadata": {},
   "source": [
    "2 Given a square matrix, calculate the absolute difference between the sums of its diagonals.\n",
    "\n",
    "For example, the square matrix __arr__ is shown below:\n",
    "\n",
    "1 2 3 <br>\n",
    "4 5 6 <br>\n",
    "9 8 9 <br>\n",
    "\n",
    "The left-to-right diagonal = 1 + 5 + 9 = 15. The right to left diagonal = 3 + 5 + 9 = 17. Their absolute difference is |15 - 17| = 2.\n",
    "\n",
    "- write the function for returning the absolute difference between the diagonals of the matrix."
   ]
  },
  {
   "cell_type": "code",
   "execution_count": 20,
   "metadata": {},
   "outputs": [
    {
     "name": "stdout",
     "output_type": "stream",
     "text": [
      "2\n"
     ]
    }
   ],
   "source": [
    "def diagonalDifference(arr):\n",
    "\n",
    "    diagonalLR = 0\n",
    "    diagonalRL = 0\n",
    "    n = len(arr)\n",
    "    \n",
    "    for i in range(n):\n",
    "        for j in range(n):\n",
    "            \n",
    "            if i == j:\n",
    "                diagonalLR += arr[i][j]\n",
    "            \n",
    "            if i == (n-j-1):\n",
    "                diagonalRL += arr[i][j]\n",
    "\n",
    "    return abs(diagonalLR-diagonalRL)\n",
    "\n",
    "\n",
    "print(diagonalDifference([[1, 2,3],  [4, 5, 6], [ 9, 8, 9]]))"
   ]
  },
  {
   "cell_type": "markdown",
   "metadata": {},
   "source": [
    "3 Given an array of integers, calculate the ratios of its elements that are positive, negative, and zero. Print the decimal value of each fraction on a new line with 6 places after the decimal.\n",
    "\n",
    "Note: This challenge introduces precision problems. The test cases are scaled to six decimal places, though answers with absolute error of up to 10<sup>4</sup> are acceptable."
   ]
  },
  {
   "cell_type": "code",
   "execution_count": 22,
   "metadata": {},
   "outputs": [
    {
     "name": "stdout",
     "output_type": "stream",
     "text": [
      "0.4\n",
      "0.4\n",
      "0.2\n"
     ]
    }
   ],
   "source": [
    "def plusMinus(arr):\n",
    "    \n",
    "    n = len(arr)\n",
    "    pos = 0\n",
    "    neg = 0\n",
    "    zero = 0\n",
    "    \n",
    "    for i in range(n):\n",
    "        if arr[i]>0:\n",
    "            pos+=1\n",
    "        elif arr[i] < 0:\n",
    "            neg += 1\n",
    "        else:\n",
    "            zero += 1\n",
    "            \n",
    "    print(pos/n) if pos > 0 else print(0)\n",
    "    print(neg/n) if neg > 0 else print(0)\n",
    "    print(zero/n) if zero > 0 else print(0)\n",
    "\n",
    "\n",
    "plusMinus([1, 1, 0, -1, -1])"
   ]
  }
 ],
 "metadata": {
  "kernelspec": {
   "display_name": "Python 3.10.5 64-bit",
   "language": "python",
   "name": "python3"
  },
  "language_info": {
   "codemirror_mode": {
    "name": "ipython",
    "version": 3
   },
   "file_extension": ".py",
   "mimetype": "text/x-python",
   "name": "python",
   "nbconvert_exporter": "python",
   "pygments_lexer": "ipython3",
   "version": "3.10.5"
  },
  "orig_nbformat": 4,
  "vscode": {
   "interpreter": {
    "hash": "f4c85645bce20c702a4ecae1b93c6759c482279d1c3b7e99a0246a20b7629f3f"
   }
  }
 },
 "nbformat": 4,
 "nbformat_minor": 2
}
