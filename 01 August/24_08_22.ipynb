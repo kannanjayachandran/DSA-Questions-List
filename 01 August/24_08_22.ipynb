{
 "cells": [
  {
   "cell_type": "markdown",
   "metadata": {},
   "source": [
    "### 24/08/22"
   ]
  },
  {
   "cell_type": "markdown",
   "metadata": {},
   "source": [
    "1 Given five positive integers, find the minimum and maximum values that can be calculated by summing exactly four of the five integers. Then print the respective minimum and maximum values as a single line of two space-separated long integers.\n",
    "\n",
    "For an array arr = [1, 2, 3, 4, 5] , the minimum sum is 1 + 2 + 3 + 4 = 10 and the maximum sum is 2 + 3 + 4 + 5 = 14 . The function prints 10 14"
   ]
  },
  {
   "cell_type": "code",
   "execution_count": 1,
   "metadata": {},
   "outputs": [
    {
     "name": "stdout",
     "output_type": "stream",
     "text": [
      "10 14\n"
     ]
    }
   ],
   "source": [
    "def miniMaxSum(arr):\n",
    "\n",
    "    maximum = max(arr)\n",
    "    minimum = min(arr)\n",
    "    \n",
    "    if minimum == maximum:\n",
    "        print(maximum * 4, minimum *4)\n",
    "        return\n",
    "    \n",
    "    h = 0\n",
    "    low = 0\n",
    "   \n",
    "    for i in range(len(arr)):\n",
    "\n",
    "        if arr[i] != minimum:\n",
    "            h += arr[i]\n",
    "\n",
    "        if arr[i] != maximum:\n",
    "            low += arr[i]\n",
    "            \n",
    "    print(low, h)\n",
    "\n",
    "\n",
    "miniMaxSum([1, 2, 3, 4, 5])"
   ]
  },
  {
   "cell_type": "markdown",
   "metadata": {},
   "source": [
    "2 You are in charge of the cake for a child's birthday. You have decided the cake will have one candle for each year of their total age. They will only be able to blow out the tallest of the candles. Count how many candles are tallest.\n",
    "\n",
    "for example if candles = [4,4,1,3], the tallest candles are 4 units high, and there are 2 of them, so return 2"
   ]
  },
  {
   "cell_type": "code",
   "execution_count": 3,
   "metadata": {},
   "outputs": [
    {
     "data": {
      "text/plain": [
       "2"
      ]
     },
     "execution_count": 3,
     "metadata": {},
     "output_type": "execute_result"
    }
   ],
   "source": [
    "def birthdayCakeCandles(candles):\n",
    "\n",
    "    maximum = max(candles)\n",
    "    return candles.count(maximum)\n",
    "    \n",
    "   # return candles.count(max(candles))\n",
    "\n",
    "birthdayCakeCandles([4, 4, 1, 3])"
   ]
  },
  {
   "cell_type": "code",
   "execution_count": 1,
   "metadata": {},
   "outputs": [
    {
     "name": "stdout",
     "output_type": "stream",
     "text": [
      "2\n"
     ]
    }
   ],
   "source": [
    "# iterative solution\n",
    "\n",
    "def birthdayCakeCandles(candles):\n",
    "    '''main function'''\n",
    "\n",
    "    maximum  = helperMax(candles)\n",
    "\n",
    "    return helperCount(maximum, candles)\n",
    "\n",
    "def helperMax(arr):\n",
    "    '''Function to find the largest element'''\n",
    "\n",
    "    maximum = -float('inf')\n",
    "\n",
    "    for i in range(len(arr)):\n",
    "        if arr[i] > maximum:\n",
    "            maximum = arr[i]\n",
    "\n",
    "    return maximum\n",
    "\n",
    "def helperCount(n, arr):\n",
    "    '''Function to count the occurrence of an element'''\n",
    "\n",
    "    num = 0\n",
    "\n",
    "    for value in arr:\n",
    "        if value == n:\n",
    "            num += 1\n",
    "\n",
    "    return num\n",
    "\n",
    "print(birthdayCakeCandles([4, 4, 1, 3]))"
   ]
  },
  {
   "cell_type": "markdown",
   "metadata": {},
   "source": [
    "3 Given an array of n elements count the number of elements which have atleast 1 element greater than itself present in the list."
   ]
  },
  {
   "cell_type": "code",
   "execution_count": 4,
   "metadata": {},
   "outputs": [
    {
     "data": {
      "text/plain": [
       "7"
      ]
     },
     "execution_count": 4,
     "metadata": {},
     "output_type": "execute_result"
    }
   ],
   "source": [
    "def countElements(arr):\n",
    "\n",
    "    maximum  = max(arr)\n",
    "    count  = 0\n",
    "\n",
    "    for value in arr:\n",
    "        if value != maximum:\n",
    "            count += 1\n",
    "    \n",
    "    return count\n",
    "\n",
    "countElements([2, 5, 1, 4, 8, 0, 8, 1, 3, 8])\n",
    "    "
   ]
  },
  {
   "cell_type": "code",
   "execution_count": 3,
   "metadata": {},
   "outputs": [
    {
     "data": {
      "text/plain": [
       "7"
      ]
     },
     "execution_count": 3,
     "metadata": {},
     "output_type": "execute_result"
    }
   ],
   "source": [
    "# iterative solution\n",
    "\n",
    "def countElements(arr):\n",
    "\n",
    "    maximum = helperMax(arr)\n",
    "    count = 0\n",
    "\n",
    "    for x in arr:\n",
    "        if x < maximum:\n",
    "            count += 1\n",
    "\n",
    "    return count\n",
    "\n",
    "countElements([2, 5, 1, 4, 8, 0, 8, 1, 3, 8])"
   ]
  }
 ],
 "metadata": {
  "kernelspec": {
   "display_name": "Python 3.10.5 64-bit",
   "language": "python",
   "name": "python3"
  },
  "language_info": {
   "codemirror_mode": {
    "name": "ipython",
    "version": 3
   },
   "file_extension": ".py",
   "mimetype": "text/x-python",
   "name": "python",
   "nbconvert_exporter": "python",
   "pygments_lexer": "ipython3",
   "version": "3.10.5"
  },
  "orig_nbformat": 4,
  "vscode": {
   "interpreter": {
    "hash": "f4c85645bce20c702a4ecae1b93c6759c482279d1c3b7e99a0246a20b7629f3f"
   }
  }
 },
 "nbformat": 4,
 "nbformat_minor": 2
}
